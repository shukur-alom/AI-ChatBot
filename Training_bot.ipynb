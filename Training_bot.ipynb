{
  "nbformat": 4,
  "nbformat_minor": 0,
  "metadata": {
    "colab": {
      "name": "chat bot.ipynb",
      "provenance": [],
      "collapsed_sections": []
    },
    "kernelspec": {
      "name": "python3",
      "display_name": "Python 3"
    },
    "language_info": {
      "name": "python"
    },
    "accelerator": "GPU"
  },
  "cells": [
    {
      "cell_type": "code",
      "metadata": {
        "id": "G4F2gZp9cU-e"
      },
      "source": [
        "import pandas as pd\n",
        "import pickle\n",
        "import numpy as np\n",
        "from keras.preprocessing.text import Tokenizer\n",
        "from keras.preprocessing.sequence import pad_sequences\n",
        "from sklearn.preprocessing import LabelEncoder\n",
        "from keras.layers import Embedding,LSTM,Bidirectional,Dense\n",
        "from keras.utils import to_categorical\n",
        "from keras import Sequential\n",
        "from keras.callbacks import Callback,TensorBoard\n",
        "import random"
      ],
      "execution_count": null,
      "outputs": []
    },
    {
      "cell_type": "code",
      "metadata": {
        "id": "RmyhuEgudK7g"
      },
      "source": [
        "data = pd.read_json('intents.json')"
      ],
      "execution_count": null,
      "outputs": []
    },
    {
      "cell_type": "code",
      "metadata": {
        "id": "GeZc5uPzeIQ0"
      },
      "source": [
        "text = []\n",
        "label = []\n",
        "for i in data['intents']:\n",
        "  for j in i['patterns']:\n",
        "    text.append(j.lower())\n",
        "    label.append(i['tag'])"
      ],
      "execution_count": null,
      "outputs": []
    },
    {
      "cell_type": "code",
      "metadata": {
        "id": "MDmY09ZXf0Kl"
      },
      "source": [
        "t_n = Tokenizer(oov_token=\"<oov>\")\n",
        "t_n.fit_on_texts(text)"
      ],
      "execution_count": null,
      "outputs": []
    },
    {
      "cell_type": "code",
      "metadata": {
        "id": "p5lCfy0yjZhc"
      },
      "source": [
        "word_ind = len(t_n.word_index) + 1 "
      ],
      "execution_count": null,
      "outputs": []
    },
    {
      "cell_type": "code",
      "metadata": {
        "id": "Ms6erhKJgzxF"
      },
      "source": [
        "t_n_x = t_n.texts_to_sequences(text)"
      ],
      "execution_count": null,
      "outputs": []
    },
    {
      "cell_type": "code",
      "metadata": {
        "id": "9Yu_Lc0bhCP1"
      },
      "source": [
        "max_len = 8\n",
        "x = pad_sequences(t_n_x,maxlen=max_len,padding='post')"
      ],
      "execution_count": null,
      "outputs": []
    },
    {
      "cell_type": "code",
      "metadata": {
        "id": "5zVKCwOOhYpd"
      },
      "source": [
        "l_e = LabelEncoder()\n",
        "y = l_e.fit_transform(label)"
      ],
      "execution_count": null,
      "outputs": []
    },
    {
      "cell_type": "code",
      "metadata": {
        "colab": {
          "base_uri": "https://localhost:8080/"
        },
        "id": "y3_nrcRmnnkE",
        "outputId": "b9f9ef42-9e7e-4b43-9017-bf5cec4b84ec"
      },
      "source": [
        "def preprocess(text):\n",
        "  t_n_x = t_n.texts_to_sequences([text])\n",
        "  return pad_sequences(t_n_x,maxlen=8,padding='post')\n",
        "preprocess('hello')"
      ],
      "execution_count": null,
      "outputs": [
        {
          "output_type": "execute_result",
          "data": {
            "text/plain": [
              "array([[34,  0,  0,  0,  0,  0,  0,  0]], dtype=int32)"
            ]
          },
          "metadata": {
            "tags": []
          },
          "execution_count": 12
        }
      ]
    },
    {
      "cell_type": "code",
      "metadata": {
        "id": "10PCrZx0n2Tb"
      },
      "source": [
        "#pickle.dump(t_n, open( \"Tokenizer.p\", \"wb\" ) ) #now save Tokenizer"
      ],
      "execution_count": null,
      "outputs": []
    },
    {
      "cell_type": "code",
      "metadata": {
        "id": "geq0zfS2nTnw"
      },
      "source": [
        "#pickle.dump( l_e, open( \"LabelEncoder.p\", \"wb\" ) ) #save LabelEncoder"
      ],
      "execution_count": null,
      "outputs": []
    },
    {
      "cell_type": "code",
      "metadata": {
        "id": "KHbTIAtuh_RH"
      },
      "source": [
        "model = Sequential()\n",
        "model.add(Embedding(input_dim=word_ind,output_dim=len(set(label)),input_length=max_len))\n",
        "model.add(Bidirectional(LSTM(64,return_sequences=True)))\n",
        "model.add(Bidirectional(LSTM(34)))\n",
        "model.add(Dense(len(set(label)),activation='softmax'))\n",
        "\n",
        "model.compile(optimizer='adam',loss='categorical_crossentropy',metrics=['accuracy'])"
      ],
      "execution_count": null,
      "outputs": []
    },
    {
      "cell_type": "code",
      "metadata": {
        "colab": {
          "base_uri": "https://localhost:8080/"
        },
        "id": "eV9bqhq8joyS",
        "outputId": "87f11dcc-e9ef-4942-9f68-19ba427159f9"
      },
      "source": [
        "model.summary()"
      ],
      "execution_count": null,
      "outputs": [
        {
          "output_type": "stream",
          "text": [
            "Model: \"sequential\"\n",
            "_________________________________________________________________\n",
            "Layer (type)                 Output Shape              Param #   \n",
            "=================================================================\n",
            "embedding (Embedding)        (None, 8, 18)             2124      \n",
            "_________________________________________________________________\n",
            "bidirectional (Bidirectional (None, 8, 128)            42496     \n",
            "_________________________________________________________________\n",
            "bidirectional_1 (Bidirection (None, 68)                44336     \n",
            "_________________________________________________________________\n",
            "dense (Dense)                (None, 18)                1242      \n",
            "=================================================================\n",
            "Total params: 90,198\n",
            "Trainable params: 90,198\n",
            "Non-trainable params: 0\n",
            "_________________________________________________________________\n"
          ],
          "name": "stdout"
        }
      ]
    },
    {
      "cell_type": "code",
      "metadata": {
        "colab": {
          "base_uri": "https://localhost:8080/"
        },
        "id": "IAvw0UBbkexm",
        "outputId": "e4b13f72-dd3a-47bb-e4ad-14b797c3f94e"
      },
      "source": [
        "class CustomCallback(Callback):\n",
        "    def on_epoch_end(self, epoch, logs={}):\n",
        "        if(logs.get(\"accuracy\") >= 1.0):\n",
        "          print(\"accuracy 100%\")\n",
        "          self.model.stop_training = True\n",
        "ten = TensorBoard(\"/content/logs\",histogram_freq=1)\n",
        "\n",
        "model.fit(x,to_categorical(y),epochs=1000,callbacks=[CustomCallback(),ten])"
      ],
      "execution_count": null,
      "outputs": [
        {
          "output_type": "stream",
          "text": [
            "Epoch 1/1000\n",
            "5/5 [==============================] - 36s 246ms/step - loss: 2.8901 - accuracy: 0.0565\n",
            "Epoch 2/1000\n",
            "1/5 [=====>........................] - ETA: 0s - loss: 2.8809 - accuracy: 0.1562WARNING:tensorflow:Callback method `on_train_batch_begin` is slow compared to the batch time (batch time: 0.0115s vs `on_train_batch_begin` time: 0.0724s). Check your callbacks.\n",
            "WARNING:tensorflow:Callback method `on_train_batch_end` is slow compared to the batch time (batch time: 0.0115s vs `on_train_batch_end` time: 0.0615s). Check your callbacks.\n",
            "5/5 [==============================] - 0s 9ms/step - loss: 2.8786 - accuracy: 0.1338\n",
            "Epoch 3/1000\n",
            "5/5 [==============================] - 0s 10ms/step - loss: 2.8667 - accuracy: 0.1386\n",
            "Epoch 4/1000\n",
            "5/5 [==============================] - 0s 7ms/step - loss: 2.8579 - accuracy: 0.1217\n",
            "Epoch 5/1000\n",
            "5/5 [==============================] - 0s 8ms/step - loss: 2.8257 - accuracy: 0.1512\n",
            "Epoch 6/1000\n",
            "5/5 [==============================] - 0s 8ms/step - loss: 2.8166 - accuracy: 0.1088\n",
            "Epoch 7/1000\n",
            "5/5 [==============================] - 0s 8ms/step - loss: 2.7709 - accuracy: 0.2259\n",
            "Epoch 8/1000\n",
            "5/5 [==============================] - 0s 9ms/step - loss: 2.7499 - accuracy: 0.1480\n",
            "Epoch 9/1000\n",
            "5/5 [==============================] - 0s 8ms/step - loss: 2.7340 - accuracy: 0.1595\n",
            "Epoch 10/1000\n",
            "5/5 [==============================] - 0s 9ms/step - loss: 2.6655 - accuracy: 0.1748\n",
            "Epoch 11/1000\n",
            "5/5 [==============================] - 0s 8ms/step - loss: 2.6123 - accuracy: 0.1883\n",
            "Epoch 12/1000\n",
            "5/5 [==============================] - 0s 8ms/step - loss: 2.5490 - accuracy: 0.1897\n",
            "Epoch 13/1000\n",
            "5/5 [==============================] - 0s 8ms/step - loss: 2.4341 - accuracy: 0.2253\n",
            "Epoch 14/1000\n",
            "5/5 [==============================] - 0s 8ms/step - loss: 2.3333 - accuracy: 0.2492\n",
            "Epoch 15/1000\n",
            "5/5 [==============================] - 0s 8ms/step - loss: 2.2705 - accuracy: 0.2506\n",
            "Epoch 16/1000\n",
            "5/5 [==============================] - 0s 9ms/step - loss: 2.1224 - accuracy: 0.2964\n",
            "Epoch 17/1000\n",
            "5/5 [==============================] - 0s 8ms/step - loss: 2.0243 - accuracy: 0.3179\n",
            "Epoch 18/1000\n",
            "5/5 [==============================] - 0s 8ms/step - loss: 1.8011 - accuracy: 0.3880\n",
            "Epoch 19/1000\n",
            "5/5 [==============================] - 0s 8ms/step - loss: 1.6535 - accuracy: 0.4415\n",
            "Epoch 20/1000\n",
            "5/5 [==============================] - 0s 10ms/step - loss: 1.5330 - accuracy: 0.5749\n",
            "Epoch 21/1000\n",
            "5/5 [==============================] - 0s 8ms/step - loss: 1.4163 - accuracy: 0.5487\n",
            "Epoch 22/1000\n",
            "5/5 [==============================] - 0s 9ms/step - loss: 1.2910 - accuracy: 0.5458\n",
            "Epoch 23/1000\n",
            "5/5 [==============================] - 0s 8ms/step - loss: 1.1785 - accuracy: 0.6559\n",
            "Epoch 24/1000\n",
            "5/5 [==============================] - 0s 9ms/step - loss: 0.9920 - accuracy: 0.7656\n",
            "Epoch 25/1000\n",
            "5/5 [==============================] - 0s 9ms/step - loss: 0.8945 - accuracy: 0.7702\n",
            "Epoch 26/1000\n",
            "5/5 [==============================] - 0s 12ms/step - loss: 0.7796 - accuracy: 0.8109\n",
            "Epoch 27/1000\n",
            "5/5 [==============================] - 0s 8ms/step - loss: 0.7371 - accuracy: 0.8176\n",
            "Epoch 28/1000\n",
            "5/5 [==============================] - 0s 7ms/step - loss: 0.6018 - accuracy: 0.8296\n",
            "Epoch 29/1000\n",
            "5/5 [==============================] - 0s 8ms/step - loss: 0.5777 - accuracy: 0.8614\n",
            "Epoch 30/1000\n",
            "5/5 [==============================] - 0s 8ms/step - loss: 0.5097 - accuracy: 0.9124\n",
            "Epoch 31/1000\n",
            "5/5 [==============================] - 0s 7ms/step - loss: 0.4529 - accuracy: 0.8851\n",
            "Epoch 32/1000\n",
            "5/5 [==============================] - 0s 8ms/step - loss: 0.3920 - accuracy: 0.9159\n",
            "Epoch 33/1000\n",
            "5/5 [==============================] - 0s 8ms/step - loss: 0.3573 - accuracy: 0.9250\n",
            "Epoch 34/1000\n",
            "5/5 [==============================] - 0s 8ms/step - loss: 0.3534 - accuracy: 0.9486\n",
            "Epoch 35/1000\n",
            "5/5 [==============================] - 0s 8ms/step - loss: 0.3256 - accuracy: 0.9438\n",
            "Epoch 36/1000\n",
            "5/5 [==============================] - 0s 8ms/step - loss: 0.2785 - accuracy: 0.9621\n",
            "Epoch 37/1000\n",
            "5/5 [==============================] - 0s 8ms/step - loss: 0.2459 - accuracy: 0.9762\n",
            "Epoch 38/1000\n",
            "5/5 [==============================] - 0s 8ms/step - loss: 0.2437 - accuracy: 0.9616\n",
            "Epoch 39/1000\n",
            "5/5 [==============================] - 0s 9ms/step - loss: 0.2295 - accuracy: 0.9665\n",
            "Epoch 40/1000\n",
            "5/5 [==============================] - 0s 8ms/step - loss: 0.2225 - accuracy: 0.9439\n",
            "Epoch 41/1000\n",
            "5/5 [==============================] - 0s 9ms/step - loss: 0.1765 - accuracy: 0.9809\n",
            "Epoch 42/1000\n",
            "5/5 [==============================] - 0s 8ms/step - loss: 0.1889 - accuracy: 0.9734\n",
            "Epoch 43/1000\n",
            "5/5 [==============================] - 0s 10ms/step - loss: 0.1344 - accuracy: 0.9908\n",
            "Epoch 44/1000\n",
            "5/5 [==============================] - 0s 8ms/step - loss: 0.1366 - accuracy: 0.9919\n",
            "Epoch 45/1000\n",
            "5/5 [==============================] - 0s 8ms/step - loss: 0.1242 - accuracy: 0.9919\n",
            "Epoch 46/1000\n",
            "5/5 [==============================] - 0s 8ms/step - loss: 0.1225 - accuracy: 0.9919\n",
            "Epoch 47/1000\n",
            "5/5 [==============================] - 0s 8ms/step - loss: 0.1165 - accuracy: 0.9945\n",
            "Epoch 48/1000\n",
            "5/5 [==============================] - 0s 8ms/step - loss: 0.0986 - accuracy: 0.9945\n",
            "Epoch 49/1000\n",
            "5/5 [==============================] - 0s 8ms/step - loss: 0.1100 - accuracy: 0.9867\n",
            "Epoch 50/1000\n",
            "5/5 [==============================] - 0s 8ms/step - loss: 0.0908 - accuracy: 0.9945\n",
            "Epoch 51/1000\n",
            "5/5 [==============================] - 0s 8ms/step - loss: 0.0925 - accuracy: 0.9919\n",
            "Epoch 52/1000\n",
            "5/5 [==============================] - 0s 8ms/step - loss: 0.0792 - accuracy: 0.9962\n",
            "Epoch 53/1000\n",
            "5/5 [==============================] - 0s 8ms/step - loss: 0.0708 - accuracy: 0.9962\n",
            "Epoch 54/1000\n",
            "5/5 [==============================] - 0s 8ms/step - loss: 0.0831 - accuracy: 0.9919\n",
            "Epoch 55/1000\n",
            "5/5 [==============================] - 0s 8ms/step - loss: 0.0776 - accuracy: 0.9919\n",
            "Epoch 56/1000\n",
            "5/5 [==============================] - 0s 8ms/step - loss: 0.0725 - accuracy: 0.9919\n",
            "Epoch 57/1000\n",
            "5/5 [==============================] - 0s 8ms/step - loss: 0.0641 - accuracy: 0.9945\n",
            "Epoch 58/1000\n",
            "5/5 [==============================] - 0s 8ms/step - loss: 0.0625 - accuracy: 0.9945\n",
            "Epoch 59/1000\n",
            "5/5 [==============================] - 0s 9ms/step - loss: 0.0583 - accuracy: 0.9962\n",
            "Epoch 60/1000\n",
            "5/5 [==============================] - 0s 10ms/step - loss: 0.0495 - accuracy: 0.9975\n",
            "Epoch 61/1000\n",
            "5/5 [==============================] - 0s 10ms/step - loss: 0.0792 - accuracy: 0.9867\n",
            "Epoch 62/1000\n",
            "5/5 [==============================] - 0s 8ms/step - loss: 0.0670 - accuracy: 0.9919\n",
            "Epoch 63/1000\n",
            "5/5 [==============================] - 0s 8ms/step - loss: 0.0670 - accuracy: 0.9962\n",
            "Epoch 64/1000\n",
            "5/5 [==============================] - 0s 8ms/step - loss: 0.0905 - accuracy: 0.9795\n",
            "Epoch 65/1000\n",
            "5/5 [==============================] - 0s 8ms/step - loss: 0.0728 - accuracy: 0.9962\n",
            "Epoch 66/1000\n",
            "5/5 [==============================] - 0s 8ms/step - loss: 0.0736 - accuracy: 0.9908\n",
            "Epoch 67/1000\n",
            "5/5 [==============================] - 0s 8ms/step - loss: 0.1195 - accuracy: 0.9678\n",
            "Epoch 68/1000\n",
            "5/5 [==============================] - 0s 8ms/step - loss: 0.2197 - accuracy: 0.9465\n",
            "Epoch 69/1000\n",
            "5/5 [==============================] - 0s 8ms/step - loss: 0.1381 - accuracy: 0.9637\n",
            "Epoch 70/1000\n",
            "5/5 [==============================] - 0s 9ms/step - loss: 0.1099 - accuracy: 0.9867\n",
            "Epoch 71/1000\n",
            "5/5 [==============================] - 0s 8ms/step - loss: 0.1615 - accuracy: 0.9617\n",
            "Epoch 72/1000\n",
            "5/5 [==============================] - 0s 8ms/step - loss: 0.1239 - accuracy: 0.9812\n",
            "Epoch 73/1000\n",
            "5/5 [==============================] - 0s 8ms/step - loss: 0.0894 - accuracy: 0.9945\n",
            "Epoch 74/1000\n",
            "5/5 [==============================] - 0s 9ms/step - loss: 0.1000 - accuracy: 0.9792\n",
            "Epoch 75/1000\n",
            "5/5 [==============================] - 0s 9ms/step - loss: 0.0880 - accuracy: 0.9867\n",
            "Epoch 76/1000\n",
            "5/5 [==============================] - 0s 8ms/step - loss: 0.0547 - accuracy: 0.9962\n",
            "Epoch 77/1000\n",
            "5/5 [==============================] - 0s 8ms/step - loss: 0.0686 - accuracy: 0.9867\n",
            "Epoch 78/1000\n",
            "5/5 [==============================] - 0s 8ms/step - loss: 0.0656 - accuracy: 0.9867\n",
            "Epoch 79/1000\n",
            "5/5 [==============================] - 0s 8ms/step - loss: 0.0530 - accuracy: 0.9919\n",
            "Epoch 80/1000\n",
            "5/5 [==============================] - 0s 8ms/step - loss: 0.0609 - accuracy: 0.9867\n",
            "Epoch 81/1000\n",
            "5/5 [==============================] - 0s 12ms/step - loss: 0.0571 - accuracy: 0.9867\n",
            "Epoch 82/1000\n",
            "5/5 [==============================] - 0s 10ms/step - loss: 0.0541 - accuracy: 0.9867\n",
            "Epoch 83/1000\n",
            "5/5 [==============================] - 0s 10ms/step - loss: 0.0390 - accuracy: 0.9945\n",
            "Epoch 84/1000\n",
            "5/5 [==============================] - 0s 9ms/step - loss: 0.0364 - accuracy: 0.9945\n",
            "Epoch 85/1000\n",
            "5/5 [==============================] - 0s 10ms/step - loss: 0.0305 - accuracy: 0.9962\n",
            "Epoch 86/1000\n",
            "5/5 [==============================] - 0s 10ms/step - loss: 0.0384 - accuracy: 0.9919\n",
            "Epoch 87/1000\n",
            "5/5 [==============================] - 0s 10ms/step - loss: 0.0463 - accuracy: 0.9867\n",
            "Epoch 88/1000\n",
            "5/5 [==============================] - 0s 10ms/step - loss: 0.0365 - accuracy: 0.9919\n",
            "Epoch 89/1000\n",
            "5/5 [==============================] - 0s 9ms/step - loss: 0.0304 - accuracy: 0.9962\n",
            "Epoch 90/1000\n",
            "5/5 [==============================] - 0s 9ms/step - loss: 0.0378 - accuracy: 0.9919\n",
            "Epoch 91/1000\n",
            "5/5 [==============================] - 0s 9ms/step - loss: 0.0274 - accuracy: 0.9975\n",
            "Epoch 92/1000\n",
            "5/5 [==============================] - 0s 8ms/step - loss: 0.0320 - accuracy: 0.9945\n",
            "Epoch 93/1000\n",
            "5/5 [==============================] - 0s 10ms/step - loss: 0.0294 - accuracy: 0.9962\n",
            "Epoch 94/1000\n",
            "5/5 [==============================] - 0s 10ms/step - loss: 0.0342 - accuracy: 0.9919\n",
            "Epoch 95/1000\n",
            "5/5 [==============================] - 0s 9ms/step - loss: 0.0361 - accuracy: 0.9919\n",
            "Epoch 96/1000\n",
            "5/5 [==============================] - 0s 10ms/step - loss: 0.0282 - accuracy: 0.9962\n",
            "Epoch 97/1000\n",
            "5/5 [==============================] - 0s 9ms/step - loss: 0.0434 - accuracy: 0.9867\n",
            "Epoch 98/1000\n",
            "5/5 [==============================] - 0s 9ms/step - loss: 0.0243 - accuracy: 0.9962\n",
            "Epoch 99/1000\n",
            "5/5 [==============================] - 0s 9ms/step - loss: 0.0278 - accuracy: 0.9945\n",
            "Epoch 100/1000\n",
            "5/5 [==============================] - 0s 10ms/step - loss: 0.0383 - accuracy: 0.9867\n",
            "Epoch 101/1000\n",
            "5/5 [==============================] - 0s 10ms/step - loss: 0.0281 - accuracy: 0.9945\n",
            "Epoch 102/1000\n",
            "5/5 [==============================] - 0s 8ms/step - loss: 0.0429 - accuracy: 0.9867\n",
            "Epoch 103/1000\n",
            "5/5 [==============================] - 0s 8ms/step - loss: 0.0289 - accuracy: 0.9919\n",
            "Epoch 104/1000\n",
            "5/5 [==============================] - 0s 8ms/step - loss: 0.0228 - accuracy: 0.9975\n",
            "Epoch 105/1000\n",
            "5/5 [==============================] - 0s 8ms/step - loss: 0.0254 - accuracy: 0.9945\n",
            "Epoch 106/1000\n",
            "5/5 [==============================] - 0s 8ms/step - loss: 0.0239 - accuracy: 0.9962\n",
            "Epoch 107/1000\n",
            "5/5 [==============================] - 0s 9ms/step - loss: 0.0296 - accuracy: 0.9867\n",
            "Epoch 108/1000\n",
            "5/5 [==============================] - 0s 8ms/step - loss: 0.0319 - accuracy: 0.9867\n",
            "Epoch 109/1000\n",
            "5/5 [==============================] - 0s 8ms/step - loss: 0.0353 - accuracy: 0.9867\n",
            "Epoch 110/1000\n",
            "5/5 [==============================] - 0s 8ms/step - loss: 0.0321 - accuracy: 0.9867\n",
            "Epoch 111/1000\n",
            "5/5 [==============================] - 0s 8ms/step - loss: 0.0281 - accuracy: 0.9919\n",
            "Epoch 112/1000\n",
            "5/5 [==============================] - 0s 8ms/step - loss: 0.0301 - accuracy: 0.9867\n",
            "Epoch 113/1000\n",
            "5/5 [==============================] - 0s 8ms/step - loss: 0.0235 - accuracy: 0.9919\n",
            "Epoch 114/1000\n",
            "5/5 [==============================] - 0s 9ms/step - loss: 0.0197 - accuracy: 0.9962\n",
            "Epoch 115/1000\n",
            "5/5 [==============================] - 0s 8ms/step - loss: 0.0212 - accuracy: 0.9945\n",
            "Epoch 116/1000\n",
            "5/5 [==============================] - 0s 10ms/step - loss: 0.0189 - accuracy: 0.9962\n",
            "Epoch 117/1000\n",
            "5/5 [==============================] - 0s 10ms/step - loss: 0.0302 - accuracy: 0.9867\n",
            "Epoch 118/1000\n",
            "5/5 [==============================] - 0s 9ms/step - loss: 0.0193 - accuracy: 0.9945\n",
            "Epoch 119/1000\n",
            "5/5 [==============================] - 0s 9ms/step - loss: 0.0179 - accuracy: 0.9962\n",
            "Epoch 120/1000\n",
            "5/5 [==============================] - 0s 11ms/step - loss: 0.0308 - accuracy: 0.9867\n",
            "Epoch 121/1000\n",
            "5/5 [==============================] - 0s 11ms/step - loss: 0.0234 - accuracy: 0.9945\n",
            "Epoch 122/1000\n",
            "5/5 [==============================] - 0s 10ms/step - loss: 0.0198 - accuracy: 0.9945\n",
            "Epoch 123/1000\n",
            "5/5 [==============================] - 0s 10ms/step - loss: 0.0205 - accuracy: 0.9962\n",
            "Epoch 124/1000\n",
            "5/5 [==============================] - 0s 8ms/step - loss: 0.0190 - accuracy: 0.9945\n",
            "Epoch 125/1000\n",
            "5/5 [==============================] - 0s 9ms/step - loss: 0.0189 - accuracy: 0.9962\n",
            "Epoch 126/1000\n",
            "5/5 [==============================] - 0s 9ms/step - loss: 0.0308 - accuracy: 0.9867\n",
            "Epoch 127/1000\n",
            "5/5 [==============================] - 0s 10ms/step - loss: 0.0270 - accuracy: 0.9867\n",
            "Epoch 128/1000\n",
            "5/5 [==============================] - 0s 8ms/step - loss: 0.0172 - accuracy: 0.9945\n",
            "Epoch 129/1000\n",
            "5/5 [==============================] - 0s 8ms/step - loss: 0.0277 - accuracy: 0.9867\n",
            "Epoch 130/1000\n",
            "5/5 [==============================] - 0s 9ms/step - loss: 0.0256 - accuracy: 0.9867\n",
            "Epoch 131/1000\n",
            "5/5 [==============================] - 0s 9ms/step - loss: 0.0196 - accuracy: 0.9919\n",
            "Epoch 132/1000\n",
            "5/5 [==============================] - 0s 9ms/step - loss: 0.0271 - accuracy: 0.9867\n",
            "Epoch 133/1000\n",
            "5/5 [==============================] - 0s 9ms/step - loss: 0.0315 - accuracy: 0.9867\n",
            "Epoch 134/1000\n",
            "5/5 [==============================] - 0s 9ms/step - loss: 0.0300 - accuracy: 0.9867\n",
            "Epoch 135/1000\n",
            "5/5 [==============================] - 0s 8ms/step - loss: 0.0164 - accuracy: 0.9945\n",
            "Epoch 136/1000\n",
            "5/5 [==============================] - 0s 8ms/step - loss: 0.0143 - accuracy: 0.9975\n",
            "Epoch 137/1000\n",
            "5/5 [==============================] - 0s 8ms/step - loss: 0.0258 - accuracy: 0.9867\n",
            "Epoch 138/1000\n",
            "5/5 [==============================] - 0s 9ms/step - loss: 0.0246 - accuracy: 0.9945\n",
            "Epoch 139/1000\n",
            "5/5 [==============================] - 0s 9ms/step - loss: 0.0251 - accuracy: 0.9867\n",
            "Epoch 140/1000\n",
            "5/5 [==============================] - 0s 10ms/step - loss: 0.0200 - accuracy: 0.9919\n",
            "Epoch 141/1000\n",
            "5/5 [==============================] - 0s 9ms/step - loss: 0.0226 - accuracy: 0.9867\n",
            "Epoch 142/1000\n",
            "5/5 [==============================] - 0s 9ms/step - loss: 0.0220 - accuracy: 0.9945\n",
            "Epoch 143/1000\n",
            "5/5 [==============================] - 0s 9ms/step - loss: 0.0223 - accuracy: 0.9867\n",
            "Epoch 144/1000\n",
            "5/5 [==============================] - 0s 8ms/step - loss: 0.0243 - accuracy: 0.9867\n",
            "Epoch 145/1000\n",
            "5/5 [==============================] - 0s 8ms/step - loss: 0.0272 - accuracy: 0.9867\n",
            "Epoch 146/1000\n",
            "5/5 [==============================] - 0s 9ms/step - loss: 0.0227 - accuracy: 0.9867\n",
            "Epoch 147/1000\n",
            "5/5 [==============================] - 0s 9ms/step - loss: 0.0177 - accuracy: 0.9919\n",
            "Epoch 148/1000\n",
            "5/5 [==============================] - 0s 9ms/step - loss: 0.0221 - accuracy: 0.9919\n",
            "Epoch 149/1000\n",
            "5/5 [==============================] - 0s 8ms/step - loss: 0.0195 - accuracy: 0.9919\n",
            "Epoch 150/1000\n",
            "5/5 [==============================] - 0s 8ms/step - loss: 0.0160 - accuracy: 0.9962\n",
            "Epoch 151/1000\n",
            "5/5 [==============================] - 0s 8ms/step - loss: 0.0169 - accuracy: 0.9975\n",
            "Epoch 152/1000\n",
            "5/5 [==============================] - 0s 10ms/step - loss: 0.0238 - accuracy: 0.9812\n",
            "Epoch 153/1000\n",
            "5/5 [==============================] - 0s 10ms/step - loss: 0.0205 - accuracy: 0.9945\n",
            "Epoch 154/1000\n",
            "5/5 [==============================] - 0s 10ms/step - loss: 0.0162 - accuracy: 0.9945\n",
            "Epoch 155/1000\n",
            "5/5 [==============================] - 0s 9ms/step - loss: 0.0233 - accuracy: 0.9919\n",
            "Epoch 156/1000\n",
            "5/5 [==============================] - 0s 10ms/step - loss: 0.0165 - accuracy: 0.9962\n",
            "Epoch 157/1000\n",
            "5/5 [==============================] - 0s 10ms/step - loss: 0.0265 - accuracy: 0.9867\n",
            "Epoch 158/1000\n",
            "5/5 [==============================] - 0s 10ms/step - loss: 0.0163 - accuracy: 0.9919\n",
            "Epoch 159/1000\n",
            "5/5 [==============================] - 0s 10ms/step - loss: 0.0155 - accuracy: 0.9962\n",
            "Epoch 160/1000\n",
            "5/5 [==============================] - 0s 10ms/step - loss: 0.0149 - accuracy: 0.9962\n",
            "Epoch 161/1000\n",
            "5/5 [==============================] - 0s 8ms/step - loss: 0.0158 - accuracy: 0.9919\n",
            "Epoch 162/1000\n",
            "5/5 [==============================] - 0s 9ms/step - loss: 0.0129 - accuracy: 0.9962\n",
            "Epoch 163/1000\n",
            "5/5 [==============================] - 0s 10ms/step - loss: 0.0135 - accuracy: 0.9975\n",
            "Epoch 164/1000\n",
            "5/5 [==============================] - 0s 9ms/step - loss: 0.0231 - accuracy: 0.9786\n",
            "Epoch 165/1000\n",
            "5/5 [==============================] - 0s 9ms/step - loss: 0.0202 - accuracy: 0.9962\n",
            "Epoch 166/1000\n",
            "5/5 [==============================] - 0s 8ms/step - loss: 0.0177 - accuracy: 0.9945\n",
            "Epoch 167/1000\n",
            "5/5 [==============================] - 0s 10ms/step - loss: 0.0169 - accuracy: 0.9919\n",
            "Epoch 168/1000\n",
            "5/5 [==============================] - 0s 8ms/step - loss: 0.0226 - accuracy: 0.9867\n",
            "Epoch 169/1000\n",
            "5/5 [==============================] - 0s 10ms/step - loss: 0.0253 - accuracy: 0.9867\n",
            "Epoch 170/1000\n",
            "5/5 [==============================] - 0s 8ms/step - loss: 0.0188 - accuracy: 0.9962\n",
            "Epoch 171/1000\n",
            "5/5 [==============================] - 0s 11ms/step - loss: 0.0152 - accuracy: 0.9919\n",
            "Epoch 172/1000\n",
            "5/5 [==============================] - 0s 10ms/step - loss: 0.0185 - accuracy: 0.9829\n",
            "Epoch 173/1000\n",
            "5/5 [==============================] - 0s 8ms/step - loss: 0.0158 - accuracy: 0.9864\n",
            "Epoch 174/1000\n",
            "5/5 [==============================] - 0s 9ms/step - loss: 0.0212 - accuracy: 0.9867\n",
            "Epoch 175/1000\n",
            "5/5 [==============================] - 0s 8ms/step - loss: 0.0136 - accuracy: 0.9945\n",
            "Epoch 176/1000\n",
            "5/5 [==============================] - 0s 8ms/step - loss: 0.0137 - accuracy: 0.9945\n",
            "Epoch 177/1000\n",
            "5/5 [==============================] - 0s 9ms/step - loss: 0.0168 - accuracy: 0.9962\n",
            "Epoch 178/1000\n",
            "5/5 [==============================] - 0s 8ms/step - loss: 0.0123 - accuracy: 0.9975\n",
            "Epoch 179/1000\n",
            "5/5 [==============================] - 0s 9ms/step - loss: 0.0138 - accuracy: 1.0000\n",
            "accuracy 100%\n"
          ],
          "name": "stdout"
        },
        {
          "output_type": "execute_result",
          "data": {
            "text/plain": [
              "<tensorflow.python.keras.callbacks.History at 0x7f26fe2ab710>"
            ]
          },
          "metadata": {
            "tags": []
          },
          "execution_count": 18
        }
      ]
    },
    {
      "cell_type": "code",
      "metadata": {
        "id": "0lCFhnPqlB4w"
      },
      "source": [
        "#model.save('chatbot_model.h5') #save main model"
      ],
      "execution_count": null,
      "outputs": []
    },
    {
      "cell_type": "code",
      "metadata": {
        "id": "fsCpw1cfomUS"
      },
      "source": [
        "%load_ext tensorboard\n",
        "%tensorboard --logdir /content/logs"
      ],
      "execution_count": null,
      "outputs": []
    },
    {
      "cell_type": "code",
      "metadata": {
        "colab": {
          "base_uri": "https://localhost:8080/"
        },
        "id": "Oik99XBV65mB",
        "outputId": "7e07a5d5-43b8-4bd8-a1b6-2c01b0912f83"
      },
      "source": [
        "#now text\n",
        "while 1:\n",
        "  pri = model.predict(preprocess(input(\"Me ==> \").lower()))\n",
        "  if pri[0][np.argmax(pri)]*100 >= 65.00:\n",
        "    for i in data['intents']:\n",
        "      if i['tag'] == l_e.inverse_transform([np.argmax(pri)])[0]:\n",
        "        print(f\"Bot ==> {random.choice(i['responses'])}\")\n",
        "        break\n",
        "  else:print(\"Bot ==> Sorry, Don't able to response this message!\")\n",
        "\n"
      ],
      "execution_count": null,
      "outputs": [
        {
          "output_type": "stream",
          "text": [
            "Me ==> hi\n",
            "Bot ==> fine\n",
            "Me ==> hlw\n",
            "Bot ==> fine\n",
            "Me ==> hi\n",
            "Bot ==> Good to see you again!\n",
            "Me ==> how are you\n",
            "Bot ==> Sorry, Don't able to response this message!\n",
            "Me ==> Good bye\n",
            "Bot ==> Please do not swear\n",
            "Me ==> good\n",
            "Bot ==> Goodbye!\n",
            "Me ==> goodbye\n",
            "Bot ==> Talk to you later\n",
            "Me ==> ok\n",
            "Bot ==> No problem!\n",
            "Me ==> hy\n",
            "Bot ==> No problem!\n"
          ],
          "name": "stdout"
        }
      ]
    },
    {
      "cell_type": "code",
      "metadata": {
        "id": "Q911vfCSo_pP"
      },
      "source": [
        ""
      ],
      "execution_count": null,
      "outputs": []
    }
  ]
}